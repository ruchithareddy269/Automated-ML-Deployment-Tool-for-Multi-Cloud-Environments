{
 "cells": [
  {
   "cell_type": "code",
   "execution_count": 1,
   "metadata": {},
   "outputs": [],
   "source": [
    "from langchain.chat_models import ChatOpenAI\n",
    "from langchain.schema import HumanMessage\n",
    "import os\n",
    "from tempfile import TemporaryDirectory\n",
    "from langchain_community.agent_toolkits import FileManagementToolkit"
   ]
  },
  {
   "cell_type": "code",
   "execution_count": 5,
   "metadata": {},
   "outputs": [],
   "source": [
    "working_directory = TemporaryDirectory()"
   ]
  },
  {
   "cell_type": "code",
   "execution_count": 6,
   "metadata": {},
   "outputs": [
    {
     "data": {
      "text/plain": [
       "<TemporaryDirectory '/var/folders/lr/g8_szk2d7690c34fwxhrsgb00000gn/T/tmptcg2b_g9'>"
      ]
     },
     "execution_count": 6,
     "metadata": {},
     "output_type": "execute_result"
    }
   ],
   "source": [
    "working_directory"
   ]
  },
  {
   "cell_type": "code",
   "execution_count": 7,
   "metadata": {},
   "outputs": [
    {
     "data": {
      "text/plain": [
       "[CopyFileTool(root_dir='/var/folders/lr/g8_szk2d7690c34fwxhrsgb00000gn/T/tmptcg2b_g9'),\n",
       " DeleteFileTool(root_dir='/var/folders/lr/g8_szk2d7690c34fwxhrsgb00000gn/T/tmptcg2b_g9'),\n",
       " FileSearchTool(root_dir='/var/folders/lr/g8_szk2d7690c34fwxhrsgb00000gn/T/tmptcg2b_g9'),\n",
       " MoveFileTool(root_dir='/var/folders/lr/g8_szk2d7690c34fwxhrsgb00000gn/T/tmptcg2b_g9'),\n",
       " ReadFileTool(root_dir='/var/folders/lr/g8_szk2d7690c34fwxhrsgb00000gn/T/tmptcg2b_g9'),\n",
       " WriteFileTool(root_dir='/var/folders/lr/g8_szk2d7690c34fwxhrsgb00000gn/T/tmptcg2b_g9'),\n",
       " ListDirectoryTool(root_dir='/var/folders/lr/g8_szk2d7690c34fwxhrsgb00000gn/T/tmptcg2b_g9')]"
      ]
     },
     "execution_count": 7,
     "metadata": {},
     "output_type": "execute_result"
    }
   ],
   "source": [
    "toolkit = FileManagementToolkit(\n",
    "    root_dir=str(working_directory.name)\n",
    ")  # If you don't provide a root_dir, operations will default to the current working directory\n",
    "toolkit.get_tools()"
   ]
  },
  {
   "cell_type": "code",
   "execution_count": 8,
   "metadata": {},
   "outputs": [
    {
     "data": {
      "text/plain": [
       "[ReadFileTool(root_dir='/var/folders/lr/g8_szk2d7690c34fwxhrsgb00000gn/T/tmptcg2b_g9'),\n",
       " WriteFileTool(root_dir='/var/folders/lr/g8_szk2d7690c34fwxhrsgb00000gn/T/tmptcg2b_g9'),\n",
       " ListDirectoryTool(root_dir='/var/folders/lr/g8_szk2d7690c34fwxhrsgb00000gn/T/tmptcg2b_g9')]"
      ]
     },
     "execution_count": 8,
     "metadata": {},
     "output_type": "execute_result"
    }
   ],
   "source": [
    "tools = FileManagementToolkit(\n",
    "    root_dir=str(working_directory.name),\n",
    "    selected_tools=[\"read_file\", \"write_file\", \"list_directory\"],\n",
    ").get_tools()\n",
    "tools"
   ]
  },
  {
   "cell_type": "code",
   "execution_count": null,
   "metadata": {},
   "outputs": [],
   "source": []
  }
 ],
 "metadata": {
  "kernelspec": {
   "display_name": "mlops",
   "language": "python",
   "name": "python3"
  },
  "language_info": {
   "codemirror_mode": {
    "name": "ipython",
    "version": 3
   },
   "file_extension": ".py",
   "mimetype": "text/x-python",
   "name": "python",
   "nbconvert_exporter": "python",
   "pygments_lexer": "ipython3",
   "version": "3.10.12"
  }
 },
 "nbformat": 4,
 "nbformat_minor": 2
}
