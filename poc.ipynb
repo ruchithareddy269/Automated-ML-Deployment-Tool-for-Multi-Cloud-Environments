{
 "cells": [
  {
   "cell_type": "code",
   "execution_count": 1,
   "metadata": {},
   "outputs": [],
   "source": [
    "%load_ext autoreload\n",
    "%autoreload 2"
   ]
  },
  {
   "cell_type": "code",
   "execution_count": 2,
   "metadata": {},
   "outputs": [],
   "source": [
    "# Import necessary modules from LangChain\n",
    "from langchain.chat_models import ChatOpenAI\n",
    "from langchain.schema import HumanMessage\n",
    "import os"
   ]
  },
  {
   "cell_type": "code",
   "execution_count": 3,
   "metadata": {},
   "outputs": [],
   "source": [
    "FILE_WITH_SECRET = '/Users/neel/Documents/Keys/OpenAIDeployWizardKey.txt'\n",
    "MODEL_NAME = 'gpt-4o-mini'"
   ]
  },
  {
   "cell_type": "markdown",
   "metadata": {},
   "source": [
    "# Overview Chat UI\n",
    "1. User will tell this is the model and this is the inference script which needs to be deployed on EC2 as an api server\n",
    "2. We productionize the inference script (adding logging + exception hanfling)\n",
    "3. We generate docker file for this (there is a conversation fo pulling the model from a model registry, but that is out of scope for the poc)\n",
    "4. Terraform code for spinnning the infra\n",
    "5. a shell script or commands that can be run on the instance "
   ]
  },
  {
   "cell_type": "code",
   "execution_count": 4,
   "metadata": {},
   "outputs": [
    {
     "name": "stderr",
     "output_type": "stream",
     "text": [
      "/var/folders/lr/g8_szk2d7690c34fwxhrsgb00000gn/T/ipykernel_10662/1532119186.py:14: LangChainDeprecationWarning: The class `ChatOpenAI` was deprecated in LangChain 0.0.10 and will be removed in 1.0. An updated version of the class exists in the :class:`~langchain-openai package and should be used instead. To use it run `pip install -U :class:`~langchain-openai` and import as `from :class:`~langchain_openai import ChatOpenAI``.\n",
      "  chat = ChatOpenAI(model=MODEL_NAME, temperature=0)\n"
     ]
    }
   ],
   "source": [
    "# Function to read OpenAI API key from a file\n",
    "def read_openai_key(file_path):\n",
    "    try:\n",
    "        with open(file_path, 'r') as file:\n",
    "            return file.read().strip()\n",
    "    except Exception as e:\n",
    "        return str(e)\n",
    "\n",
    "# Set your OpenAI API key from a file\n",
    "api_key = read_openai_key(FILE_WITH_SECRET)\n",
    "os.environ[\"OPENAI_API_KEY\"] = api_key\n",
    "\n",
    "# Create a ChatOpenAI instance\n",
    "chat = ChatOpenAI(model=MODEL_NAME, temperature=0)\n",
    "\n",
    "\n",
    "# Initialize an empty list to store the chat history\n",
    "messages = []\n",
    "# File writer instance\n",
    "# file_writer = FileWriterTool()\n",
    "\n",
    "# # Start an infinite loop for continuous conversation\n",
    "# while True:\n",
    "#     # Get user input\n",
    "#     message = input(\"> \")\n",
    "    \n",
    "#     # Check if the user wants to exit the chat\n",
    "#     if message.lower() == \"exit\":\n",
    "#         print(\"Exiting chat. Goodbye!\")\n",
    "#         break\n",
    "    \n",
    "#     # Create a HumanMessage object with the user input\n",
    "#     usr_msg = HumanMessage(content=message)\n",
    "    \n",
    "#     # Append the user message to the messages list\n",
    "#     messages.append(usr_msg)\n",
    "    \n",
    "#     # Generate a response from the AI using the chat history\n",
    "#     ai_msg = chat(messages)\n",
    "    \n",
    "#     # Print the AI's response\n",
    "#     print(ai_msg.content)\n",
    "    \n",
    "#     # Append the AI's response to the messages list\n",
    "#     messages.append(ai_msg)"
   ]
  },
  {
   "cell_type": "markdown",
   "metadata": {},
   "source": [
    "## Containerizing model and inference script"
   ]
  },
  {
   "cell_type": "code",
   "execution_count": null,
   "metadata": {},
   "outputs": [],
   "source": []
  },
  {
   "cell_type": "markdown",
   "metadata": {},
   "source": [
    "## Terraform Code generation for EC2 instance"
   ]
  },
  {
   "cell_type": "code",
   "execution_count": null,
   "metadata": {},
   "outputs": [
    {
     "name": "stdout",
     "output_type": "stream",
     "text": [
      "Role: Terraform DevOps Engineer  \n",
      "Task: Generate AWS EC2 instance Terraform code using provided parameters.  \n",
      "Context:  \n",
      "- Use AWS Provider (version >= 4.0).  \n",
      "- Preconfigured resources: VPC, security group, and AMI (see details below).  \n",
      "- Missing values (subnet, key_pair) must be flagged with a `TODO` comment.  \n",
      "- Ensure security best practices (e.g., no hardcoded secrets).  \n",
      "\n",
      "Action:  \n",
      "1. Define a Terraform `aws_instance` resource with the provided configuration.  \n",
      "2. Reference existing resources (VPC, security group, Key value pair etc).  \n",
      "3. Add tags for resource tracking.  \n",
      "4. Include error handling for missing subnet/key pair.  \n",
      "5. If value of a parameter is known, replace the placeholder with the actual value.\n",
      "\n",
      "Output Format:  \n",
      "- Provide valid HCL (HashiCorp Language) code.  \n",
      "- Enclose the complete Terraform code in triple backticks (```), prefixed with \"```hcl\" for syntax highlighting, to allow easy extraction by Python scripts.  \n",
      "- When providing code for multiple files such as main.tf, variables.tf, etc., separate them with a comment line (e.g., `# variables.tf`).\n",
      "- Include comments for placeholders (e.g., `# TODO: Replace with your subnet ID`).  \n",
      "- Use a separate `variables.tf` for configurable values (e.g., `var.instance_type`).  \n",
      "\n",
      "Parameters Provided:  \n",
      "vpc_id = \"vpc-0f0aea174086b6625\"  \n",
      "subnet_id = \"subnet-070d54662e68443ed\"  \n",
      "instance_type = \"t2.micro\"  \n",
      "security_group_id = \"sg-03aa3023dd84cf4a5\"  \n",
      "key_pair_name = \"neel_test\"  \n",
      "ami_id = \"ami-08d4f6bbae664bd41\"  \n",
      "\n"
     ]
    }
   ],
   "source": [
    "# Define parameters in a dictionary\n",
    "params = {\n",
    "    \"vpc_id\": \"vpc-0f0aea174086b6625\",\n",
    "    \"region\": \"us-west-1\",\n",
    "    \"subnet_id\": \"subnet-070d54662e68443ed\",\n",
    "    \"instance_type\": \"t2.micro\",\n",
    "    \"security_group_id\": \"sg-03aa3023dd84cf4a5\",\n",
    "    \"key_pair_name\": \"neel_test\",\n",
    "    \"ami_id\": \"ami-08d4f6bbae664bd41\"\n",
    "}\n",
    "\n",
    "# Create the terraform prompt using dictionary formatting\n",
    "terraform_prompt = '''Role: Terraform DevOps Engineer  \n",
    "Task: Generate AWS EC2 instance Terraform code using provided parameters.  \n",
    "Context:  \n",
    "- Use AWS Provider (version >= 4.0).  \n",
    "- Preconfigured resources: VPC, security group, and AMI (see details below).  \n",
    "- Missing values (subnet, key_pair) must be flagged with a `TODO` comment.  \n",
    "- Ensure security best practices (e.g., no hardcoded secrets).  \n",
    "\n",
    "Action:  \n",
    "1. Define a Terraform `aws_instance` resource with the provided configuration.  \n",
    "2. Reference existing resources (VPC, security group, Key value pair etc).  \n",
    "3. Add tags for resource tracking.  \n",
    "4. Include error handling for missing subnet/key pair.  \n",
    "5. If value of a parameter is known, replace the placeholder with the actual value.\n",
    "\n",
    "Output Format:  \n",
    "- Provide valid HCL (HashiCorp Language) code.  \n",
    "- Enclose the complete Terraform code in triple backticks (```), prefixed with \"```hcl\" for syntax highlighting, to allow easy extraction by Python scripts.  \n",
    "- When providing code for multiple files such as main.tf, variables.tf, etc., separate them with a comment line (e.g., `# variables.tf`).\n",
    "- Include comments for placeholders (e.g., `# TODO: Replace with your subnet ID`).  \n",
    "- Use a separate `variables.tf` for configurable values (e.g., `var.instance_type`).  \n",
    "\n",
    "Parameters Provided:  \n",
    "vpc_id = \"{vpc_id}\"  \n",
    "subnet_id = \"{subnet_id}\"  \n",
    "instance_type = \"{instance_type}\"  \n",
    "security_group_id = \"{security_group_id}\"  \n",
    "key_pair_name = \"{key_pair_name}\"  \n",
    "ami_id = \"{ami_id}\"  \n",
    "region = \"{region}\"\n",
    "'''.format(**params)\n",
    "\n",
    "print(terraform_prompt)\n"
   ]
  },
  {
   "cell_type": "code",
   "execution_count": 46,
   "metadata": {},
   "outputs": [],
   "source": [
    "messages = [\n",
    "    HumanMessage(content=\"Hello, I need help with Terraform code generation.\"),\n",
    "    HumanMessage(content=terraform_prompt)\n",
    "]"
   ]
  },
  {
   "cell_type": "code",
   "execution_count": 42,
   "metadata": {},
   "outputs": [],
   "source": [
    "response = chat.invoke(terraform_prompt)"
   ]
  },
  {
   "cell_type": "code",
   "execution_count": 43,
   "metadata": {},
   "outputs": [
    {
     "name": "stdout",
     "output_type": "stream",
     "text": [
      "```hcl\n",
      "# main.tf\n",
      "provider \"aws\" {\n",
      "  region = \"us-east-1\"  # TODO: Replace with your desired AWS region\n",
      "  version = \"~> 4.0\"\n",
      "}\n",
      "\n",
      "resource \"aws_instance\" \"my_instance\" {\n",
      "  ami           = \"ami-08d4f6bbae664bd41\"\n",
      "  instance_type = var.instance_type\n",
      "  subnet_id     = \"subnet-070d54662e68443ed\"  # TODO: Replace with your subnet ID\n",
      "  key_name      = \"neel_test\"  # TODO: Ensure this key pair exists in your account\n",
      "  vpc_security_group_ids = [\"sg-03aa3023dd84cf4a5\"]\n",
      "\n",
      "  tags = {\n",
      "    Name        = \"MyEC2Instance\"\n",
      "    Environment = \"Development\"\n",
      "  }\n",
      "\n",
      "  lifecycle {\n",
      "    create_before_destroy = true\n",
      "  }\n",
      "}\n",
      "\n",
      "# variables.tf\n",
      "variable \"instance_type\" {\n",
      "  description = \"The type of instance to create\"\n",
      "  type        = string\n",
      "  default     = \"t2.micro\"\n",
      "}\n",
      "\n",
      "# outputs.tf\n",
      "output \"instance_id\" {\n",
      "  description = \"The ID of the EC2 instance\"\n",
      "  value       = aws_instance.my_instance.id\n",
      "}\n",
      "\n",
      "output \"public_ip\" {\n",
      "  description = \"The public IP of the EC2 instance\"\n",
      "  value       = aws_instance.my_instance.public_ip\n",
      "}\n",
      "``` \n",
      "\n",
      "### Explanation:\n",
      "- The `main.tf` file contains the configuration for the AWS provider and the EC2 instance resource.\n",
      "- The `variables.tf` file defines a variable for the instance type, allowing for easy configuration.\n",
      "- The `outputs.tf` file provides outputs for the instance ID and public IP, which can be useful for tracking and accessing the instance.\n",
      "- Comments are included to indicate where further configuration is needed (e.g., subnet ID and key pair).\n"
     ]
    }
   ],
   "source": [
    "response_str = response.content\n",
    "print(response_str)"
   ]
  },
  {
   "cell_type": "code",
   "execution_count": 36,
   "metadata": {},
   "outputs": [
    {
     "data": {
      "text/plain": [
       "'Here is the Terraform code to create an AWS EC2 instance using the provided parameters. The code includes comments for any missing values and follows best practices for security and resource management.\\n\\n### `main.tf`\\n```hcl\\nprovider \"aws\" {\\n  region = \"us-east-1\"  # TODO: Replace with your desired AWS region\\n}\\n\\nresource \"aws_instance\" \"my_instance\" {\\n  ami           = \"ami-08d4f6bbae664bd41\"  # Provided AMI ID\\n  instance_type = var.instance_type         # Referencing variable for instance type\\n  subnet_id     = \"subnet-070d54662e68443ed\"  # Provided Subnet ID\\n  key_name      = \"neel_test\"               # Provided Key Pair Name\\n  vpc_security_group_ids = [\"sg-03aa3023dd84cf4a5\"]  # Provided Security Group ID\\n\\n  tags = {\\n    Name        = \"MyEC2Instance\"\\n    Environment = \"Development\"  # TODO: Adjust as necessary\\n  }\\n\\n  # Error handling for missing subnet and key pair\\n  lifecycle {\\n    prevent_destroy = true\\n  }\\n}\\n\\noutput \"instance_id\" {\\n  value = aws_instance.my_instance.id\\n}\\n```\\n\\n### `variables.tf`\\n```hcl\\nvariable \"instance_type\" {\\n  description = \"The type of instance to create\"\\n  type        = string\\n  default     = \"t2.micro\"  # Default value, can be overridden\\n}\\n```\\n\\n### Comments on the Code:\\n- The `provider` block specifies the AWS region. You may want to replace it with your desired region.\\n- The `aws_instance` resource references the provided AMI ID, instance type, subnet ID, key pair name, and security group ID.\\n- Tags are added for resource tracking, and you can adjust the `Environment` tag as necessary.\\n- The `lifecycle` block includes a `prevent_destroy` setting to avoid accidental deletion of the instance.\\n- The `variables.tf` file allows for easy configuration of the instance type, with a default value provided.\\n\\n### Note:\\n- Ensure that the `subnet_id` and `key_pair_name` are correctly set as per your AWS environment. If they are not available, you can replace them with `# TODO` comments as needed.'"
      ]
     },
     "execution_count": 36,
     "metadata": {},
     "output_type": "execute_result"
    }
   ],
   "source": [
    "response_str\n"
   ]
  },
  {
   "cell_type": "code",
   "execution_count": 49,
   "metadata": {},
   "outputs": [],
   "source": [
    "from langchain.schema import AIMessage"
   ]
  },
  {
   "cell_type": "code",
   "execution_count": 50,
   "metadata": {},
   "outputs": [],
   "source": [
    "messages.append(AIMessage(content=response_str))"
   ]
  },
  {
   "cell_type": "code",
   "execution_count": 44,
   "metadata": {},
   "outputs": [],
   "source": [
    "import os\n",
    "import re\n",
    "\n",
    "def extract_and_save_hcl_files(response_str, folder=\"aws_terraform_files\"):\n",
    "    \"\"\"\n",
    "    Extracts HCL code blocks from the given string and saves each block\n",
    "    to one or more files in the specified folder. A single HCL code block can\n",
    "    contain multiple file definitions if it includes multiple header lines,\n",
    "    each starting with '#' (e.g., \"# main.tf\").\n",
    "\n",
    "    :param response_str: The string containing HCL code blocks.\n",
    "    :param folder: The folder where the files will be saved (default is \"aws_terraform_files\").\n",
    "    \"\"\"\n",
    "    # Ensure the target folder exists.\n",
    "    os.makedirs(folder, exist_ok=True)\n",
    "    \n",
    "    # Regular expression to capture all HCL code blocks (including newline characters)\n",
    "    pattern = r\"```hcl\\s*(.*?)```\"\n",
    "    blocks = re.findall(pattern, response_str, re.DOTALL)\n",
    "\n",
    "    for block in blocks:\n",
    "        lines = block.strip().splitlines()\n",
    "        current_filename = None\n",
    "        current_lines = []\n",
    "        \n",
    "        for line in lines:\n",
    "            stripped_line = line.strip()\n",
    "            # Check if the line is a header line indicating a file name\n",
    "            if stripped_line.startswith(\"#\"):\n",
    "                # If we were already collecting content for a file, write it out first\n",
    "                if current_filename is not None:\n",
    "                    file_path = os.path.join(folder, current_filename)\n",
    "                    with open(file_path, \"w\") as f:\n",
    "                        f.write(\"\\n\".join(current_lines).rstrip())\n",
    "                    print(f\"Wrote file: {file_path}\")\n",
    "                # Start a new file: extract the file name (remove '#' and extra whitespace)\n",
    "                current_filename = stripped_line[1:].strip()\n",
    "                current_lines = []\n",
    "            else:\n",
    "                # If no header has been encountered yet, default to \"output.txt\"\n",
    "                if current_filename is None:\n",
    "                    current_filename = \"output.txt\"\n",
    "                current_lines.append(line)\n",
    "        \n",
    "        # After processing all lines in the block, write out the last file content.\n",
    "        if current_filename is not None:\n",
    "            file_path = os.path.join(folder, current_filename)\n",
    "            with open(file_path, \"w\") as f:\n",
    "                f.write(\"\\n\".join(current_lines).rstrip())\n",
    "            print(f\"Wrote file: {file_path}\")"
   ]
  },
  {
   "cell_type": "code",
   "execution_count": 45,
   "metadata": {},
   "outputs": [
    {
     "name": "stdout",
     "output_type": "stream",
     "text": [
      "Wrote file: aws_terraform_files/main.tf\n",
      "Wrote file: aws_terraform_files/variables.tf\n",
      "Wrote file: aws_terraform_files/outputs.tf\n"
     ]
    }
   ],
   "source": [
    "extract_and_save_hcl_files(response_str, folder=\"aws_terraform_files\")"
   ]
  },
  {
   "cell_type": "code",
   "execution_count": 56,
   "metadata": {},
   "outputs": [],
   "source": [
    "terraform_deployment_prompt = f'''\n",
    "Role: Terraform DevOps Engineer\n",
    "Task: Generate a series of deployment commands for Terraform code deployment.\n",
    "Context:\n",
    "\t•\tThe Terraform configuration files (e.g., main.tf, variables.tf, etc.) have been generated in a previous conversation (see provided context).\n",
    "\t•\tThe configuration includes AWS provider settings, an AWS EC2 instance resource definition, variable definitions, and error handling for missing parameters.\n",
    "\t•\tDeployment should follow Terraform best practices (e.g., initializing the backend, planning, applying, and validating the configuration).\n",
    "\n",
    "Action:\n",
    "\t1.\tList all necessary Terraform commands in the proper order (for example: terraform init, terraform validate, terraform plan, and terraform apply).\n",
    "\t2.\tInclude any additional pre-deployment or post-deployment commands if applicable (e.g., setting environment variables or using terraform destroy when needed).\n",
    "\t3.\tProvide inline comments or brief explanations for each command to guide the user.\n",
    "\t4.\tEnsure the commands are tailored to deploy the previously generated Terraform configuration.\n",
    "    5. Provide steps for validating the deployment after applying the Terraform configuration.\n",
    "    6. Provie command for connecting to the EC2 instance using SSH.\n",
    "\n",
    "Output Format:\n",
    "\t•\tEnclose the complete command list in triple backticks with “```bash” for shell syntax highlighting.\n",
    "\t•\tEach command should appear on its own line with clear inline comments if needed.\n",
    "\n",
    "Chain Conversation:\n",
    "\t•\tUse the previous conversation context—which includes the Terraform code generation prompt and the resulting files—to tailor the deployment commands accordingly.\n",
    "“””'''"
   ]
  },
  {
   "cell_type": "code",
   "execution_count": 57,
   "metadata": {},
   "outputs": [],
   "source": [
    "messages.append(HumanMessage(content=terraform_deployment_prompt))\n",
    "response2 = chat.invoke(messages)"
   ]
  },
  {
   "cell_type": "code",
   "execution_count": 58,
   "metadata": {},
   "outputs": [],
   "source": [
    "response2_str = response2.content"
   ]
  },
  {
   "cell_type": "code",
   "execution_count": 59,
   "metadata": {},
   "outputs": [
    {
     "name": "stdout",
     "output_type": "stream",
     "text": [
      "```bash\n",
      "# Step 1: Initialize the Terraform working directory\n",
      "terraform init  # Initializes the backend and downloads the necessary provider plugins\n",
      "\n",
      "# Step 2: Validate the Terraform configuration files\n",
      "terraform validate  # Checks the configuration files for syntax errors and other issues\n",
      "\n",
      "# Step 3: Plan the deployment\n",
      "terraform plan  # Creates an execution plan, showing what actions will be taken without applying them\n",
      "\n",
      "# Step 4: Apply the Terraform configuration\n",
      "terraform apply  # Applies the changes required to reach the desired state of the configuration\n",
      "\n",
      "# Step 5: Validate the deployment\n",
      "# After applying, you can check the status of the EC2 instance using the AWS CLI or AWS Management Console\n",
      "aws ec2 describe-instances --instance-ids $(terraform output -raw instance_id)  # Retrieves details of the created EC2 instance\n",
      "\n",
      "# Step 6: Connect to the EC2 instance using SSH\n",
      "ssh -i /path/to/your/private-key.pem ec2-user@$(terraform output -raw public_ip)  # Replace with the path to your private key and the correct user for your AMI\n",
      "```\n",
      "\n",
      "### Explanation:\n",
      "- **terraform init**: Initializes the working directory and prepares it for other commands by downloading the necessary provider plugins.\n",
      "- **terraform validate**: Ensures that the configuration files are syntactically valid and checks for any potential issues.\n",
      "- **terraform plan**: Generates an execution plan, allowing you to see what changes will be made before actually applying them.\n",
      "- **terraform apply**: Executes the plan and creates the resources defined in the configuration files.\n",
      "- **aws ec2 describe-instances**: Validates the deployment by checking the status of the EC2 instance created. It uses the instance ID output from Terraform.\n",
      "- **ssh command**: Connects to the EC2 instance using SSH. Make sure to replace `/path/to/your/private-key.pem` with the actual path to your SSH key and adjust the username if necessary based on the AMI used.\n"
     ]
    }
   ],
   "source": [
    "print(response2_str)"
   ]
  },
  {
   "cell_type": "code",
   "execution_count": null,
   "metadata": {},
   "outputs": [],
   "source": [
    "# and we can ask provide scripts for running the ec2 instance\n"
   ]
  }
 ],
 "metadata": {
  "kernelspec": {
   "display_name": "mlops",
   "language": "python",
   "name": "python3"
  },
  "language_info": {
   "codemirror_mode": {
    "name": "ipython",
    "version": 3
   },
   "file_extension": ".py",
   "mimetype": "text/x-python",
   "name": "python",
   "nbconvert_exporter": "python",
   "pygments_lexer": "ipython3",
   "version": "3.10.12"
  }
 },
 "nbformat": 4,
 "nbformat_minor": 2
}
